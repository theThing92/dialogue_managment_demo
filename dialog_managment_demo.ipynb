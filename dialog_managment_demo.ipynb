{
 "cells": [
  {
   "cell_type": "markdown",
   "metadata": {},
   "source": [
    "# Implementing Dialog Managment"
   ]
  },
  {
   "cell_type": "markdown",
   "metadata": {},
   "source": [
    "- **Referent:** Maurice Vogel\n",
    "- **Datum:** 09.01.2020"
   ]
  },
  {
   "cell_type": "markdown",
   "metadata": {},
   "source": [
    "## Outline\n",
    "- Wiederholung von Ansätzen zum Dialogmanagment (DM)\n",
    "  - \"regel-basiertes\" DM\n",
    "  - \"daten-basiertes\" / statistisches DM<br><br>\n",
    "- Kurzvorstellung der in der Demo verwendeten Frameworks\n",
    "  - pandas\n",
    "  - scikit-learn\n",
    "  - Jupyter<br><br>\n",
    "- Beispiel-Implementation des \"regel-basierten\" DM am Beispiel eines Pizzeria-Chatbots<br><br>\n",
    "- Beispiel-Implementation des \"daten-basierten\" / statistisches  DM am Beispiel eines Pizzeria-Chatbots<br>"
   ]
  },
  {
   "cell_type": "markdown",
   "metadata": {},
   "source": [
    "## Wiederholung von Ansätzen zum Dialogmanagment\n",
    "- \"regel-basiertes\" DM\n",
    "- \"daten-basiertes\" / statistisches DM\n",
    "\n",
    "Was sind die wichtigsten Unterschiede zwischen diesen Ansätzen?"
   ]
  },
  {
   "cell_type": "markdown",
   "metadata": {},
   "source": [
    "## Kurzvorstellung der in der Demo verwendeten Frameworks\n",
    "Für die Demo im Buch verwendet McTear (2016) die beiden Frameworks Voice-XML und WEKA für Implementation der jeweiligen DM-Ansätze. Ich habe dies (vergleichsweise) ähnlich in Python umgesetzt und dafür hautpsächlich folgende Frameworks verwendet:\n",
    "\n",
    "- [pandas](https://pandas.pydata.org/)\n",
    "- [scikit-learn](https://scikit-learn.org/stable/)\n",
    "\n",
    "Die Demo läuft hierbei innerhalb eines sog. [Jupyter](https://jupyter.org/)-Notebooks.\n",
    "\n",
    "Allen Code für die Demo könnt ihr von meinem Git-Repository klonen (MIT-Lizenz). Für die Demo habe ich eine kleine Library für das DM mit den beiden o.g. Verfahren geschrieben.\n",
    "\n",
    "Die Demo kann wie folgt importiert werden (auf der Verzeichnis-Ebene des Git Repos):"
   ]
  },
  {
   "cell_type": "code",
   "execution_count": 1,
   "metadata": {},
   "outputs": [],
   "source": [
    "import lib "
   ]
  },
  {
   "cell_type": "markdown",
   "metadata": {},
   "source": [
    "Die einzelnen Pakete haben hierbei folgende Funktionen und sind objekt-orientiert implementiert:"
   ]
  },
  {
   "cell_type": "code",
   "execution_count": 2,
   "metadata": {},
   "outputs": [],
   "source": [
    "# lib.data # Vorverarbeitung / Aufbereitung Trainingsdaten für statistisches DM\n",
    "# lib.dm # Dialogmanagment (Hauptkomponente)\n",
    "# lib.nlg # Sprachgenerierung auf Basis von Templates\n",
    "# lib.nlu # Sprachverstehen, d.h. Informationsextraktion aus User Input über Pattern Matching\n",
    "# lib.training # Training von statistischen DM-Modellen"
   ]
  },
  {
   "cell_type": "markdown",
   "metadata": {},
   "source": [
    "## Demo (in Pycharm)"
   ]
  },
  {
   "cell_type": "markdown",
   "metadata": {},
   "source": [
    "### Aufbereiten von Trainingsdaten"
   ]
  },
  {
   "cell_type": "code",
   "execution_count": 3,
   "metadata": {},
   "outputs": [
    {
     "data": {
      "text/html": [
       "<div>\n",
       "<style scoped>\n",
       "    .dataframe tbody tr th:only-of-type {\n",
       "        vertical-align: middle;\n",
       "    }\n",
       "\n",
       "    .dataframe tbody tr th {\n",
       "        vertical-align: top;\n",
       "    }\n",
       "\n",
       "    .dataframe thead th {\n",
       "        text-align: right;\n",
       "    }\n",
       "</style>\n",
       "<table border=\"1\" class=\"dataframe\">\n",
       "  <thead>\n",
       "    <tr style=\"text-align: right;\">\n",
       "      <th></th>\n",
       "      <th>PREV_SYSTEM_ACTION</th>\n",
       "      <th>TypeOrder</th>\n",
       "      <th>NumberPizzas</th>\n",
       "      <th>TypesPizzas</th>\n",
       "      <th>SizesPizzas</th>\n",
       "      <th>TypesDoughs</th>\n",
       "      <th>Drinks</th>\n",
       "      <th>Acceptance</th>\n",
       "      <th>Rejection</th>\n",
       "      <th>NotUnderstood</th>\n",
       "      <th>SYSTEM_ACTION</th>\n",
       "    </tr>\n",
       "  </thead>\n",
       "  <tbody>\n",
       "    <tr>\n",
       "      <th>0</th>\n",
       "      <td>1</td>\n",
       "      <td>0</td>\n",
       "      <td>1</td>\n",
       "      <td>0</td>\n",
       "      <td>0</td>\n",
       "      <td>0</td>\n",
       "      <td>0</td>\n",
       "      <td>0</td>\n",
       "      <td>0</td>\n",
       "      <td>0</td>\n",
       "      <td>4</td>\n",
       "    </tr>\n",
       "    <tr>\n",
       "      <th>1</th>\n",
       "      <td>4</td>\n",
       "      <td>0</td>\n",
       "      <td>1</td>\n",
       "      <td>1</td>\n",
       "      <td>0</td>\n",
       "      <td>0</td>\n",
       "      <td>0</td>\n",
       "      <td>0</td>\n",
       "      <td>0</td>\n",
       "      <td>0</td>\n",
       "      <td>5</td>\n",
       "    </tr>\n",
       "    <tr>\n",
       "      <th>7</th>\n",
       "      <td>4</td>\n",
       "      <td>0</td>\n",
       "      <td>1</td>\n",
       "      <td>1</td>\n",
       "      <td>0</td>\n",
       "      <td>0</td>\n",
       "      <td>0</td>\n",
       "      <td>0</td>\n",
       "      <td>0</td>\n",
       "      <td>0</td>\n",
       "      <td>5</td>\n",
       "    </tr>\n",
       "    <tr>\n",
       "      <th>11</th>\n",
       "      <td>1</td>\n",
       "      <td>0</td>\n",
       "      <td>1</td>\n",
       "      <td>0</td>\n",
       "      <td>0</td>\n",
       "      <td>0</td>\n",
       "      <td>0</td>\n",
       "      <td>0</td>\n",
       "      <td>0</td>\n",
       "      <td>0</td>\n",
       "      <td>4</td>\n",
       "    </tr>\n",
       "    <tr>\n",
       "      <th>12</th>\n",
       "      <td>4</td>\n",
       "      <td>0</td>\n",
       "      <td>1</td>\n",
       "      <td>2</td>\n",
       "      <td>0</td>\n",
       "      <td>0</td>\n",
       "      <td>0</td>\n",
       "      <td>0</td>\n",
       "      <td>0</td>\n",
       "      <td>0</td>\n",
       "      <td>10</td>\n",
       "    </tr>\n",
       "  </tbody>\n",
       "</table>\n",
       "</div>"
      ],
      "text/plain": [
       "    PREV_SYSTEM_ACTION  TypeOrder  NumberPizzas  TypesPizzas  SizesPizzas  \\\n",
       "0                    1          0             1            0            0   \n",
       "1                    4          0             1            1            0   \n",
       "7                    4          0             1            1            0   \n",
       "11                   1          0             1            0            0   \n",
       "12                   4          0             1            2            0   \n",
       "\n",
       "    TypesDoughs  Drinks  Acceptance  Rejection  NotUnderstood  SYSTEM_ACTION  \n",
       "0             0       0           0          0              0              4  \n",
       "1             0       0           0          0              0              5  \n",
       "7             0       0           0          0              0              5  \n",
       "11            0       0           0          0              0              4  \n",
       "12            0       0           0          0              0             10  "
      ]
     },
     "execution_count": 3,
     "metadata": {},
     "output_type": "execute_result"
    }
   ],
   "source": [
    "# Laden und Vorverarbeitung der Trainingsdaten\n",
    "from lib.data import TrainDataLoader\n",
    "\n",
    "tdl = TrainDataLoader(\"./data/Dialogs_Pizza.txt\")\n",
    "df = tdl.data\n",
    "\n",
    "df.head()"
   ]
  },
  {
   "cell_type": "markdown",
   "metadata": {},
   "source": [
    "### Training eines Modells\n",
    "\n"
   ]
  },
  {
   "cell_type": "code",
   "execution_count": 4,
   "metadata": {
    "scrolled": false
   },
   "outputs": [
    {
     "name": "stdout",
     "output_type": "stream",
     "text": [
      "# Tuning hyper-parameters for f1\n",
      "\n"
     ]
    },
    {
     "name": "stderr",
     "output_type": "stream",
     "text": [
      "d:\\users\\mvogel\\pycharmprojects\\word_embeddings_demo\\venv\\lib\\site-packages\\sklearn\\model_selection\\_split.py:1978: FutureWarning: The default value of cv will change from 3 to 5 in version 0.22. Specify it explicitly to silence this warning.\n",
      "  warnings.warn(CV_WARNING, FutureWarning)\n",
      "d:\\users\\mvogel\\pycharmprojects\\word_embeddings_demo\\venv\\lib\\site-packages\\sklearn\\model_selection\\_search.py:814: DeprecationWarning: The default of the `iid` parameter will change from True to False in version 0.22 and will be removed in 0.24. This will change numeric results when test-set sizes are unequal.\n",
      "  DeprecationWarning)\n",
      "d:\\users\\mvogel\\pycharmprojects\\word_embeddings_demo\\venv\\lib\\site-packages\\sklearn\\metrics\\classification.py:1437: UndefinedMetricWarning: Precision and F-score are ill-defined and being set to 0.0 in labels with no predicted samples.\n",
      "  'precision', 'predicted', average, warn_for)\n"
     ]
    },
    {
     "name": "stdout",
     "output_type": "stream",
     "text": [
      "Best parameters set found on development set:\n",
      "\n",
      "{'C': 100, 'gamma': 0.001, 'kernel': 'linear'}\n",
      "\n",
      "Grid scores on development set:\n",
      "\n",
      "0.380 (+/-0.005) for {'C': 1, 'gamma': 0.001, 'kernel': 'rbf'}\n",
      "0.956 (+/-0.023) for {'C': 1, 'gamma': 0.001, 'kernel': 'linear'}\n",
      "0.380 (+/-0.005) for {'C': 1, 'gamma': 0.0001, 'kernel': 'rbf'}\n",
      "0.956 (+/-0.023) for {'C': 1, 'gamma': 0.0001, 'kernel': 'linear'}\n",
      "0.478 (+/-0.090) for {'C': 10, 'gamma': 0.001, 'kernel': 'rbf'}\n",
      "0.961 (+/-0.036) for {'C': 10, 'gamma': 0.001, 'kernel': 'linear'}\n",
      "0.380 (+/-0.005) for {'C': 10, 'gamma': 0.0001, 'kernel': 'rbf'}\n",
      "0.961 (+/-0.036) for {'C': 10, 'gamma': 0.0001, 'kernel': 'linear'}\n",
      "0.956 (+/-0.023) for {'C': 100, 'gamma': 0.001, 'kernel': 'rbf'}\n",
      "0.971 (+/-0.024) for {'C': 100, 'gamma': 0.001, 'kernel': 'linear'}\n",
      "0.478 (+/-0.090) for {'C': 100, 'gamma': 0.0001, 'kernel': 'rbf'}\n",
      "0.971 (+/-0.024) for {'C': 100, 'gamma': 0.0001, 'kernel': 'linear'}\n",
      "0.956 (+/-0.023) for {'C': 1000, 'gamma': 0.001, 'kernel': 'rbf'}\n",
      "0.971 (+/-0.024) for {'C': 1000, 'gamma': 0.001, 'kernel': 'linear'}\n",
      "0.956 (+/-0.023) for {'C': 1000, 'gamma': 0.0001, 'kernel': 'rbf'}\n",
      "0.971 (+/-0.024) for {'C': 1000, 'gamma': 0.0001, 'kernel': 'linear'}\n",
      "\n",
      "Detailed classification report:\n",
      "\n",
      "The model is trained on the full development set.\n",
      "The scores are computed on the full evaluation set.\n",
      "\n",
      "              precision    recall  f1-score   support\n",
      "\n",
      "           3       1.00      1.00      1.00         3\n",
      "           4       1.00      1.00      1.00        10\n",
      "           5       1.00      1.00      1.00        20\n",
      "           9       0.83      1.00      0.91         5\n",
      "          10       1.00      1.00      1.00        10\n",
      "          11       1.00      1.00      1.00         3\n",
      "          14       0.00      0.00      0.00         1\n",
      "\n",
      "    accuracy                           0.98        52\n",
      "   macro avg       0.83      0.86      0.84        52\n",
      "weighted avg       0.96      0.98      0.97        52\n",
      "\n",
      "\n"
     ]
    },
    {
     "data": {
      "text/html": [
       "<div>\n",
       "<style scoped>\n",
       "    .dataframe tbody tr th:only-of-type {\n",
       "        vertical-align: middle;\n",
       "    }\n",
       "\n",
       "    .dataframe tbody tr th {\n",
       "        vertical-align: top;\n",
       "    }\n",
       "\n",
       "    .dataframe thead th {\n",
       "        text-align: right;\n",
       "    }\n",
       "</style>\n",
       "<table border=\"1\" class=\"dataframe\">\n",
       "  <thead>\n",
       "    <tr style=\"text-align: right;\">\n",
       "      <th></th>\n",
       "      <th>mean_fit_time</th>\n",
       "      <th>std_fit_time</th>\n",
       "      <th>mean_score_time</th>\n",
       "      <th>std_score_time</th>\n",
       "      <th>param_C</th>\n",
       "      <th>param_gamma</th>\n",
       "      <th>param_kernel</th>\n",
       "      <th>params</th>\n",
       "      <th>split0_test_score</th>\n",
       "      <th>split1_test_score</th>\n",
       "      <th>split2_test_score</th>\n",
       "      <th>mean_test_score</th>\n",
       "      <th>std_test_score</th>\n",
       "      <th>rank_test_score</th>\n",
       "    </tr>\n",
       "  </thead>\n",
       "  <tbody>\n",
       "    <tr>\n",
       "      <th>0</th>\n",
       "      <td>0.003656</td>\n",
       "      <td>0.000471</td>\n",
       "      <td>0.003004</td>\n",
       "      <td>0.000828</td>\n",
       "      <td>1</td>\n",
       "      <td>0.001</td>\n",
       "      <td>rbf</td>\n",
       "      <td>{'C': 1, 'gamma': 0.001, 'kernel': 'rbf'}</td>\n",
       "      <td>0.376812</td>\n",
       "      <td>0.382353</td>\n",
       "      <td>0.382353</td>\n",
       "      <td>0.380488</td>\n",
       "      <td>0.002619</td>\n",
       "      <td>14</td>\n",
       "    </tr>\n",
       "    <tr>\n",
       "      <th>1</th>\n",
       "      <td>0.003320</td>\n",
       "      <td>0.000467</td>\n",
       "      <td>0.001682</td>\n",
       "      <td>0.000420</td>\n",
       "      <td>1</td>\n",
       "      <td>0.001</td>\n",
       "      <td>linear</td>\n",
       "      <td>{'C': 1, 'gamma': 0.001, 'kernel': 'linear'}</td>\n",
       "      <td>0.942029</td>\n",
       "      <td>0.970588</td>\n",
       "      <td>0.955882</td>\n",
       "      <td>0.956098</td>\n",
       "      <td>0.011674</td>\n",
       "      <td>7</td>\n",
       "    </tr>\n",
       "    <tr>\n",
       "      <th>2</th>\n",
       "      <td>0.005995</td>\n",
       "      <td>0.002813</td>\n",
       "      <td>0.003479</td>\n",
       "      <td>0.001142</td>\n",
       "      <td>1</td>\n",
       "      <td>0.0001</td>\n",
       "      <td>rbf</td>\n",
       "      <td>{'C': 1, 'gamma': 0.0001, 'kernel': 'rbf'}</td>\n",
       "      <td>0.376812</td>\n",
       "      <td>0.382353</td>\n",
       "      <td>0.382353</td>\n",
       "      <td>0.380488</td>\n",
       "      <td>0.002619</td>\n",
       "      <td>14</td>\n",
       "    </tr>\n",
       "    <tr>\n",
       "      <th>3</th>\n",
       "      <td>0.003815</td>\n",
       "      <td>0.001429</td>\n",
       "      <td>0.002471</td>\n",
       "      <td>0.000557</td>\n",
       "      <td>1</td>\n",
       "      <td>0.0001</td>\n",
       "      <td>linear</td>\n",
       "      <td>{'C': 1, 'gamma': 0.0001, 'kernel': 'linear'}</td>\n",
       "      <td>0.942029</td>\n",
       "      <td>0.970588</td>\n",
       "      <td>0.955882</td>\n",
       "      <td>0.956098</td>\n",
       "      <td>0.011674</td>\n",
       "      <td>7</td>\n",
       "    </tr>\n",
       "    <tr>\n",
       "      <th>4</th>\n",
       "      <td>0.004317</td>\n",
       "      <td>0.001888</td>\n",
       "      <td>0.002412</td>\n",
       "      <td>0.000311</td>\n",
       "      <td>10</td>\n",
       "      <td>0.001</td>\n",
       "      <td>rbf</td>\n",
       "      <td>{'C': 10, 'gamma': 0.001, 'kernel': 'rbf'}</td>\n",
       "      <td>0.536232</td>\n",
       "      <td>0.470588</td>\n",
       "      <td>0.426471</td>\n",
       "      <td>0.478049</td>\n",
       "      <td>0.045170</td>\n",
       "      <td>12</td>\n",
       "    </tr>\n",
       "  </tbody>\n",
       "</table>\n",
       "</div>"
      ],
      "text/plain": [
       "   mean_fit_time  std_fit_time  mean_score_time  std_score_time param_C  \\\n",
       "0       0.003656      0.000471         0.003004        0.000828       1   \n",
       "1       0.003320      0.000467         0.001682        0.000420       1   \n",
       "2       0.005995      0.002813         0.003479        0.001142       1   \n",
       "3       0.003815      0.001429         0.002471        0.000557       1   \n",
       "4       0.004317      0.001888         0.002412        0.000311      10   \n",
       "\n",
       "  param_gamma param_kernel                                         params  \\\n",
       "0       0.001          rbf      {'C': 1, 'gamma': 0.001, 'kernel': 'rbf'}   \n",
       "1       0.001       linear   {'C': 1, 'gamma': 0.001, 'kernel': 'linear'}   \n",
       "2      0.0001          rbf     {'C': 1, 'gamma': 0.0001, 'kernel': 'rbf'}   \n",
       "3      0.0001       linear  {'C': 1, 'gamma': 0.0001, 'kernel': 'linear'}   \n",
       "4       0.001          rbf     {'C': 10, 'gamma': 0.001, 'kernel': 'rbf'}   \n",
       "\n",
       "   split0_test_score  split1_test_score  split2_test_score  mean_test_score  \\\n",
       "0           0.376812           0.382353           0.382353         0.380488   \n",
       "1           0.942029           0.970588           0.955882         0.956098   \n",
       "2           0.376812           0.382353           0.382353         0.380488   \n",
       "3           0.942029           0.970588           0.955882         0.956098   \n",
       "4           0.536232           0.470588           0.426471         0.478049   \n",
       "\n",
       "   std_test_score  rank_test_score  \n",
       "0        0.002619               14  \n",
       "1        0.011674                7  \n",
       "2        0.002619               14  \n",
       "3        0.011674                7  \n",
       "4        0.045170               12  "
      ]
     },
     "execution_count": 4,
     "metadata": {},
     "output_type": "execute_result"
    }
   ],
   "source": [
    "from lib.training import Trainer\n",
    "import pandas as pd\n",
    "data = TrainDataLoader(\"./data/Dialogs_Pizza.txt\").data\n",
    "\n",
    "# get feature matrix and target variable\n",
    "X = data.drop(columns=[\"SYSTEM_ACTION\"])\n",
    "y = data[\"SYSTEM_ACTION\"]\n",
    "\n",
    "params_svm = {\"kernel\": [\"rbf\", \"linear\"], \"gamma\": [1e-3, 1e-4],\"C\": [1, 10, 100, 1000]}\n",
    "\n",
    "eval_metrics = ['f1']\n",
    "\n",
    "trainer = Trainer(\"svm\")\n",
    "trainer.train(X, y, params_svm, eval_metrics)\n",
    "\n",
    "df_eval_results = pd.DataFrame(trainer.model.cv_results_)\n",
    "df_eval_results.to_excel(\"./data/cv_results_svm.xlsx\")\n",
    "\n",
    "df_eval_results.head()\n"
   ]
  },
  {
   "cell_type": "code",
   "execution_count": 5,
   "metadata": {},
   "outputs": [
    {
     "data": {
      "text/plain": [
       "array([ 4,  5,  5,  4, 10,  5,  4,  5, 11,  4,  5,  9,  5,  5,  4, 10,  5,\n",
       "        4,  5, 11,  4,  5,  4,  5,  4,  5,  5,  5,  5, 11, 10,  5,  5,  9,\n",
       "        5,  4,  5,  5, 11, 10,  5,  5,  9,  5,  5, 10,  5, 10,  5, 11,  5,\n",
       "        9,  5,  5, 10,  5, 11,  5,  5,  5,  3,  4,  5,  3,  9,  4,  5,  4,\n",
       "        5,  3,  4, 10,  5,  3,  4,  5, 11,  3,  4,  5,  3,  4,  5,  4,  5,\n",
       "        4, 10,  5,  3,  9,  4,  5,  3,  4,  5, 11,  3,  4,  5,  3,  4,  5,\n",
       "        4,  5,  9,  4,  5,  9,  4, 10,  5,  9,  4, 10,  5, 11,  9,  4, 10,\n",
       "        5, 11,  3,  4,  5,  4,  5,  3,  9,  4,  5,  3,  4, 10,  5,  3,  4,\n",
       "        5, 11,  3,  4,  5,  3,  4,  5,  4,  5,  3,  9,  4,  5,  3,  9,  4,\n",
       "        5, 11,  5,  9,  5, 10,  5,  5, 11,  5,  5,  5,  9,  5, 10,  5,  5,\n",
       "        5, 11,  5,  5, 10,  5, 10,  5, 11,  5,  5, 10,  5,  5, 11, 11,  9,\n",
       "       11, 14,  9, 10,  9,  9,  9,  9, 10,  9,  9, 14,  9,  9, 10, 14, 11,\n",
       "       14,  4,  5,  4,  5,  4,  5,  4,  5,  4,  5,  4,  5,  9,  4,  5,  4,\n",
       "        5,  4, 10,  5, 10, 11, 10,  5,  9,  5, 10,  5,  5,  5,  5, 11,  5,\n",
       "        5, 10,  5, 10,  5, 11, 10, 11,  4,  4,  4,  4,  4,  4,  4,  4,  4,\n",
       "        4,  4], dtype=int64)"
      ]
     },
     "execution_count": 5,
     "metadata": {},
     "output_type": "execute_result"
    }
   ],
   "source": [
    "# model persistence\n",
    "path_to_model = \"./data/stat_model.joblib\"\n",
    "trainer.save(path_to_model)\n",
    "\n",
    "trainer2 = Trainer().load(path_to_model)\n",
    "\n",
    "trainer2.predict(X)"
   ]
  },
  {
   "cell_type": "code",
   "execution_count": null,
   "metadata": {},
   "outputs": [],
   "source": []
  },
  {
   "cell_type": "code",
   "execution_count": null,
   "metadata": {},
   "outputs": [],
   "source": []
  },
  {
   "cell_type": "code",
   "execution_count": null,
   "metadata": {},
   "outputs": [],
   "source": []
  },
  {
   "cell_type": "code",
   "execution_count": null,
   "metadata": {},
   "outputs": [],
   "source": []
  },
  {
   "cell_type": "code",
   "execution_count": null,
   "metadata": {},
   "outputs": [],
   "source": []
  },
  {
   "cell_type": "code",
   "execution_count": null,
   "metadata": {},
   "outputs": [],
   "source": []
  },
  {
   "cell_type": "code",
   "execution_count": null,
   "metadata": {},
   "outputs": [],
   "source": []
  },
  {
   "cell_type": "code",
   "execution_count": null,
   "metadata": {},
   "outputs": [],
   "source": []
  },
  {
   "cell_type": "code",
   "execution_count": null,
   "metadata": {},
   "outputs": [],
   "source": []
  },
  {
   "cell_type": "code",
   "execution_count": null,
   "metadata": {},
   "outputs": [],
   "source": []
  },
  {
   "cell_type": "code",
   "execution_count": null,
   "metadata": {},
   "outputs": [],
   "source": []
  },
  {
   "cell_type": "code",
   "execution_count": null,
   "metadata": {},
   "outputs": [],
   "source": []
  }
 ],
 "metadata": {
  "kernelspec": {
   "display_name": "Python 3",
   "language": "python",
   "name": "python3"
  },
  "language_info": {
   "codemirror_mode": {
    "name": "ipython",
    "version": 3
   },
   "file_extension": ".py",
   "mimetype": "text/x-python",
   "name": "python",
   "nbconvert_exporter": "python",
   "pygments_lexer": "ipython3",
   "version": "3.6.8"
  }
 },
 "nbformat": 4,
 "nbformat_minor": 2
}
